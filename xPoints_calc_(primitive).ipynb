{
  "nbformat": 4,
  "nbformat_minor": 0,
  "metadata": {
    "colab": {
      "provenance": [],
      "authorship_tag": "ABX9TyPAkFts41cWbEqlGSNgxltd",
      "include_colab_link": true
    },
    "kernelspec": {
      "name": "python3",
      "display_name": "Python 3"
    },
    "language_info": {
      "name": "python"
    }
  },
  "cells": [
    {
      "cell_type": "markdown",
      "metadata": {
        "id": "view-in-github",
        "colab_type": "text"
      },
      "source": [
        "<a href=\"https://colab.research.google.com/github/Stephenthomas10/EMG-GESTURE-ANALYSIS/blob/main/xPoints_calc_(primitive).ipynb\" target=\"_parent\"><img src=\"https://colab.research.google.com/assets/colab-badge.svg\" alt=\"Open In Colab\"/></a>"
      ]
    },
    {
      "cell_type": "code",
      "source": [
        "import numpy as np\n",
        "from scipy.stats import poisson\n",
        "\n",
        "# Function to calculate the probabilities of different match outcomes\n",
        "def calculate_expected_points(team1_xg, team2_xg):\n",
        "    # Calculate average xG for each team based on the last 5 games\n",
        "    team1_avg_xg = np.mean(team1_xg)\n",
        "    team2_avg_xg = np.mean(team2_xg)\n",
        "\n",
        "    # Calculate the probability of scoring each number of goals using Poisson distribution\n",
        "    max_goals = 10  # Maximum number of goals to consider for probability calculations\n",
        "    team1_probs = [poisson.pmf(i, team1_avg_xg) for i in range(max_goals)]\n",
        "    team2_probs = [poisson.pmf(i, team2_avg_xg) for i in range(max_goals)]\n",
        "\n",
        "    # Initialize probabilities for different outcomes\n",
        "    win_prob = 0\n",
        "    draw_prob = 0\n",
        "    lose_prob = 0\n",
        "\n",
        "    # Calculate the probabilities of win, draw, and lose for Team 1\n",
        "    for team1_goals in range(max_goals):\n",
        "        for team2_goals in range(max_goals):\n",
        "            match_prob = team1_probs[team1_goals] * team2_probs[team2_goals]\n",
        "\n",
        "            if team1_goals > team2_goals:\n",
        "                win_prob += match_prob\n",
        "            elif team1_goals == team2_goals:\n",
        "                draw_prob += match_prob\n",
        "            else:\n",
        "                lose_prob += match_prob\n",
        "\n",
        "    # Calculate expected points\n",
        "    expected_points_team1 = 3 * win_prob + 1 * draw_prob\n",
        "    expected_points_team2 = 3 * lose_prob + 1 * draw_prob\n",
        "\n",
        "    # Print results\n",
        "    print(f\"Team 1 Win Probability: {win_prob * 100:.2f}%\")\n",
        "    print(f\"Draw Probability: {draw_prob * 100:.2f}%\")\n",
        "    print(f\"Team 2 Win Probability: {lose_prob * 100:.2f}%\")\n",
        "\n",
        "    print(f\"Expected Points for Team 1: {expected_points_team1:.2f}\")\n",
        "    print(f\"Expected Points for Team 2: {expected_points_team2:.2f}\")\n",
        "\n",
        "# Example usage\n",
        "# Replace these lists with the last 5 xG values for each team\n",
        "team1_last_5_xg = [.99,2.46,4.16,2.19,0.78]  # Team 1 xG for the last 5 games\n",
        "team2_last_5_xg = [2.02,2.05,1.57,2.29,1.52]  # Team 2 xG for the last 5 games\n",
        "\n",
        "calculate_expected_points(team1_last_5_xg, team2_last_5_xg)\n"
      ],
      "metadata": {
        "colab": {
          "base_uri": "https://localhost:8080/"
        },
        "id": "zhhkwscLwXCa",
        "outputId": "c91aef73-fc42-43e0-9331-785953bf71ff"
      },
      "execution_count": null,
      "outputs": [
        {
          "output_type": "stream",
          "name": "stdout",
          "text": [
            "Team 1 Win Probability: 44.06%\n",
            "Draw Probability: 20.57%\n",
            "Team 2 Win Probability: 35.36%\n",
            "Expected Points for Team 1: 1.53\n",
            "Expected Points for Team 2: 1.27\n"
          ]
        }
      ]
    },
    {
      "cell_type": "code",
      "source": [
        "import requests\n",
        "from bs4 import BeautifulSoup\n",
        "import pandas as pd\n",
        "import numpy as np\n",
        "from scipy.stats import poisson\n",
        "\n",
        "# Function to scrape the last 5 xG values from a team's FBRef page\n",
        "def get_last_5_xg(team_url):\n",
        "    response = requests.get(team_url)\n",
        "    soup = BeautifulSoup(response.content, 'html.parser')\n",
        "\n",
        "    # Find the table containing \"Scores and Fixtures\" data\n",
        "    table = soup.find('table', {'id': 'matchlogs_for'})  # Table ID might be 'matchlogs_for' or similar\n",
        "\n",
        "    # Convert the table to a pandas DataFrame\n",
        "    df = pd.read_html(str(table))[0]  # Reading the HTML table into a pandas DataFrame\n",
        "\n",
        "    # Assuming xG is a column labeled \"xG\" in the table\n",
        "    xg_per90 = 'xG'  # Adjust this if the column has a different name\n",
        "\n",
        "    # Filter out the rows where xG data is available (you may need to handle missing data)\n",
        "    df = df[df[xg_per90].notna()]\n",
        "\n",
        "    # Get the last 5 xG values and convert them to float\n",
        "    last_5_xg = df[xg_per90].tail(5).astype(float).tolist()\n",
        "\n",
        "    return last_5_xg\n",
        "\n",
        "# Function to calculate expected points based on xG values\n",
        "def calculate_expected_points(team1_url, team2_url):\n",
        "    # Get the last 5 xG values for each team\n",
        "    team1_xg = get_last_5_xg(team1_url)\n",
        "    team2_xg = get_last_5_xg(team2_url)\n",
        "\n",
        "    # Calculate average xG for each team based on the last 5 games\n",
        "    team1_avg_xg = np.mean(team1_xg)\n",
        "    team2_avg_xg = np.mean(team2_xg)\n",
        "\n",
        "    # Calculate the probability of scoring each number of goals using Poisson distribution\n",
        "    max_goals = 10  # Maximum number of goals to consider for probability calculations\n",
        "    team1_probs = [poisson.pmf(i, team1_avg_xg) for i in range(max_goals)]\n",
        "    team2_probs = [poisson.pmf(i, team2_avg_xg) for i in range(max_goals)]\n",
        "\n",
        "    # Initialize probabilities for different outcomes\n",
        "    win_prob = 0\n",
        "    draw_prob = 0\n",
        "    lose_prob = 0\n",
        "\n",
        "    # Calculate the probabilities of win, draw, and lose for Team 1\n",
        "    for team1_goals in range(max_goals):\n",
        "        for team2_goals in range(max_goals):\n",
        "            match_prob = team1_probs[team1_goals] * team2_probs[team2_goals]\n",
        "\n",
        "            if team1_goals > team2_goals:\n",
        "                win_prob += match_prob\n",
        "            elif team1_goals == team2_goals:\n",
        "                draw_prob += match_prob\n",
        "            else:\n",
        "                lose_prob += match_prob\n",
        "\n",
        "    # Calculate expected points\n",
        "    expected_points_team1 = 3 * win_prob + 1 * draw_prob\n",
        "    expected_points_team2 = 3 * lose_prob + 1 * draw_prob\n",
        "\n",
        "    # Print results\n",
        "    print(f\"Team 1 Win Probability: {win_prob * 100:.2f}%\")\n",
        "    print(f\"Draw Probability: {draw_prob * 100:.2f}%\")\n",
        "    print(f\"Team 2 Win Probability: {lose_prob * 100:.2f}%\")\n",
        "\n",
        "    print(f\"Expected Points for Team 1: {expected_points_team1:.2f}\")\n",
        "    print(f\"Expected Points for Team 2: {expected_points_team2:.2f}\")\n",
        "\n",
        "# Example usage\n",
        "# Replace these URLs with actual team URLs from FBRef\n",
        "team1_url = 'https://fbref.com/en/squads/cd051869/Brentford-Stats'  # URL for Barcelona\n",
        "team2_url = 'https://fbref.com/en/squads/b74092de/Ipswich-Town-Stats'  # URL for Real Madrid\n",
        "\n",
        "calculate_expected_points(team1_url, team2_url)\n"
      ],
      "metadata": {
        "colab": {
          "base_uri": "https://localhost:8080/"
        },
        "id": "L8Cv9VKuxXRH",
        "outputId": "fef7433c-9892-4813-fd47-6bbf30718f10"
      },
      "execution_count": null,
      "outputs": [
        {
          "output_type": "stream",
          "name": "stderr",
          "text": [
            "<ipython-input-9-5dc4fb00423e>:16: FutureWarning: Passing literal html to 'read_html' is deprecated and will be removed in a future version. To read from a literal string, wrap it in a 'StringIO' object.\n",
            "  df = pd.read_html(str(table))[0]  # Reading the HTML table into a pandas DataFrame\n"
          ]
        },
        {
          "output_type": "stream",
          "name": "stdout",
          "text": [
            "Team 1 Win Probability: 47.75%\n",
            "Draw Probability: 26.38%\n",
            "Team 2 Win Probability: 25.87%\n",
            "Expected Points for Team 1: 1.70\n",
            "Expected Points for Team 2: 1.04\n"
          ]
        },
        {
          "output_type": "stream",
          "name": "stderr",
          "text": [
            "<ipython-input-9-5dc4fb00423e>:16: FutureWarning: Passing literal html to 'read_html' is deprecated and will be removed in a future version. To read from a literal string, wrap it in a 'StringIO' object.\n",
            "  df = pd.read_html(str(table))[0]  # Reading the HTML table into a pandas DataFrame\n"
          ]
        }
      ]
    },
    {
      "cell_type": "code",
      "source": [
        "import requests\n",
        "from bs4 import BeautifulSoup\n",
        "import pandas as pd\n",
        "import numpy as np\n",
        "from scipy.stats import poisson\n",
        "\n",
        "# Function to scrape the last 5 xG values from a team's FBRef page\n",
        "def get_last_5_xg(team_url):\n",
        "    response = requests.get(team_url)\n",
        "    soup = BeautifulSoup(response.content, 'html.parser')\n",
        "\n",
        "    # Find the table containing \"Scores and Fixtures\" data\n",
        "    table = soup.find('table', {'id': 'matchlogs_for'})  # Table ID might be 'matchlogs_for' or similar\n",
        "\n",
        "    # Convert the table to a pandas DataFrame\n",
        "    df = pd.read_html(str(table))[0]  # Reading the HTML table into a pandas DataFrame\n",
        "\n",
        "    # Use the correct column name for xG\n",
        "    xg_per90 = 'xG'  # Using the correct column name\n",
        "\n",
        "    # Filter out the rows where xG data is available (you may need to handle missing data)\n",
        "    df = df[df[xg_per90].notna()]\n",
        "\n",
        "    # Get the last 5 xG values and convert them to float\n",
        "    last_5_xg = df[xg_per90].tail(5).astype(float).tolist()\n",
        "\n",
        "    return last_5_xg\n",
        "\n",
        "# Function to calculate expected points and predicted scoreline\n",
        "def calculate_expected_points_and_scoreline(team1_url, team2_url):\n",
        "    # Get the last 5 xG values for each team\n",
        "    team1_xg = get_last_5_xg(team1_url)\n",
        "    team2_xg = get_last_5_xg(team2_url)\n",
        "\n",
        "    # Calculate average xG for each team based on the last 5 games\n",
        "    team1_avg_xg = np.mean(team1_xg)\n",
        "    team2_avg_xg = np.mean(team2_xg)\n",
        "\n",
        "    # Calculate the probability of scoring each number of goals using Poisson distribution\n",
        "    max_goals = 5  # Maximum number of goals to consider for probability calculations\n",
        "    team1_probs = [poisson.pmf(i, team1_avg_xg) for i in range(max_goals + 1)]\n",
        "    team2_probs = [poisson.pmf(i, team2_avg_xg) for i in range(max_goals + 1)]\n",
        "\n",
        "    # Initialize probabilities for different outcomes\n",
        "    win_prob = 0\n",
        "    draw_prob = 0\n",
        "    lose_prob = 0\n",
        "\n",
        "    # Scoreline probability matrix\n",
        "    scoreline_probs = np.zeros((max_goals + 1, max_goals + 1))\n",
        "\n",
        "    # Calculate the probabilities of win, draw, and lose for Team 1\n",
        "    for team1_goals in range(max_goals + 1):\n",
        "        for team2_goals in range(max_goals + 1):\n",
        "            match_prob = team1_probs[team1_goals] * team2_probs[team2_goals]\n",
        "            scoreline_probs[team1_goals][team2_goals] = match_prob\n",
        "\n",
        "            if team1_goals > team2_goals:\n",
        "                win_prob += match_prob\n",
        "            elif team1_goals == team2_goals:\n",
        "                draw_prob += match_prob\n",
        "            else:\n",
        "                lose_prob += match_prob\n",
        "\n",
        "    # Calculate expected points\n",
        "    expected_points_team1 = 3 * win_prob + 1 * draw_prob\n",
        "    expected_points_team2 = 3 * lose_prob + 1 * draw_prob\n",
        "\n",
        "    # Predicted scoreline based on maximum probability\n",
        "    predicted_scoreline = np.unravel_index(scoreline_probs.argmax(), scoreline_probs.shape)\n",
        "\n",
        "    # Print results\n",
        "    print(f\"Team 1 Win Probability: {win_prob * 100:.2f}%\")\n",
        "    print(f\"Draw Probability: {draw_prob * 100:.2f}%\")\n",
        "    print(f\"Team 2 Win Probability: {lose_prob * 100:.2f}%\")\n",
        "\n",
        "    print(f\"Expected Points for Team 1: {expected_points_team1:.2f}\")\n",
        "    print(f\"Expected Points for Team 2: {expected_points_team2:.2f}\")\n",
        "\n",
        "    print(f\"Predicted Scoreline: Team 1 {predicted_scoreline[0]} - {predicted_scoreline[1]} Team 2\")\n",
        "\n",
        "# Example usage\n",
        "# Replace these URLs with actual team URLs from FBRef\n",
        "team1_url = 'https://fbref.com/en/squads/4ba7cbea/Bournemouth-Stats'  # URL for Barcelona\n",
        "team2_url = 'https://fbref.com/en/squads/361ca564/Tottenham-Hotspur-Stats'  # URL for Real Madrid\n",
        "\n",
        "calculate_expected_points_and_scoreline(team1_url, team2_url)\n"
      ],
      "metadata": {
        "colab": {
          "base_uri": "https://localhost:8080/"
        },
        "id": "Tmc08Div1x16",
        "outputId": "21ee2a99-0874-418f-f06f-b7560a9b97dd"
      },
      "execution_count": null,
      "outputs": [
        {
          "output_type": "stream",
          "name": "stderr",
          "text": [
            "<ipython-input-11-707b97890f92>:16: FutureWarning: Passing literal html to 'read_html' is deprecated and will be removed in a future version. To read from a literal string, wrap it in a 'StringIO' object.\n",
            "  df = pd.read_html(str(table))[0]  # Reading the HTML table into a pandas DataFrame\n"
          ]
        },
        {
          "output_type": "stream",
          "name": "stdout",
          "text": [
            "Team 1 Win Probability: 37.68%\n",
            "Draw Probability: 20.86%\n",
            "Team 2 Win Probability: 38.39%\n",
            "Expected Points for Team 1: 1.34\n",
            "Expected Points for Team 2: 1.36\n",
            "Predicted Scoreline: Team 1 1 - 1 Team 2\n"
          ]
        },
        {
          "output_type": "stream",
          "name": "stderr",
          "text": [
            "<ipython-input-11-707b97890f92>:16: FutureWarning: Passing literal html to 'read_html' is deprecated and will be removed in a future version. To read from a literal string, wrap it in a 'StringIO' object.\n",
            "  df = pd.read_html(str(table))[0]  # Reading the HTML table into a pandas DataFrame\n"
          ]
        }
      ]
    }
  ]
}